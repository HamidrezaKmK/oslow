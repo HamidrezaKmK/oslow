{
 "cells": [
  {
   "cell_type": "code",
   "execution_count": 1,
   "metadata": {},
   "outputs": [
    {
     "name": "stdout",
     "output_type": "stream",
     "text": [
      "cuda\n"
     ]
    }
   ],
   "source": [
    "import sys\n",
    "sys.path.append('../')\n",
    "import torch\n",
    "import matplotlib.pyplot as plt\n",
    "from notebook_setup import device\n",
    "from oslow.models.oslow import OSlow\n",
    "from oslow.data.synthetic.graph_generator import GraphGenerator\n",
    "from oslow.data.synthetic.utils import RandomGenerator\n",
    "from oslow.data.synthetic.parametric import AffineParametericDataset\n",
    "from oslow.data.synthetic.nonparametric import AffineNonParametericDataset\n",
    "from oslow.models.normalization import ActNorm\n",
    "from oslow.models.postnonlinear import InPlaceTransform \n",
    "from oslow.models.masked import MaskedAffineFlowTransform\n",
    "\n",
    "%load_ext autoreload\n",
    "%autoreload 2\n",
    "print(device)"
   ]
  },
  {
   "cell_type": "markdown",
   "metadata": {},
   "source": [
    "Perform a derivative test to check if the dependencies of the flow transforms are correct."
   ]
  },
  {
   "cell_type": "code",
   "execution_count": 2,
   "metadata": {},
   "outputs": [
    {
     "data": {
      "text/plain": [
       "MaskedAffineFlowTransform(\n",
       "  (masked_mlp_shift): MaskedMLP(\n",
       "    (0): MaskedBlock(\n",
       "      in_features=3, out_features=30, bias=True\n",
       "      (activation): ReLU()\n",
       "    )\n",
       "    (1-2): 2 x MaskedBlock(\n",
       "      in_features=30, out_features=30, bias=True\n",
       "      (activation): ReLU()\n",
       "    )\n",
       "    (3): MaskedBlock(in_features=30, out_features=3, bias=True)\n",
       "  )\n",
       "  (masked_mlp_scale): MaskedMLP(\n",
       "    (0): MaskedBlock(\n",
       "      in_features=3, out_features=30, bias=True\n",
       "      (activation): ReLU()\n",
       "    )\n",
       "    (1-2): 2 x MaskedBlock(\n",
       "      in_features=30, out_features=30, bias=True\n",
       "      (activation): ReLU()\n",
       "    )\n",
       "    (3): MaskedBlock(\n",
       "      in_features=30, out_features=3, bias=True\n",
       "      (activation): ReLU()\n",
       "    )\n",
       "    (4): MaskedBlock(in_features=3, out_features=3, bias=True)\n",
       "  )\n",
       "  (normalization): ActNorm()\n",
       ")"
      ]
     },
     "execution_count": 2,
     "metadata": {},
     "output_type": "execute_result"
    }
   ],
   "source": [
    "# create a 128 by 3 tensor that is random\n",
    "x = torch.randn((128, 3)).to(device)\n",
    "\n",
    "transform_inplace = InPlaceTransform(\n",
    "    (3,),\n",
    "    num_bins=10,\n",
    "    tail_bound=1.0,\n",
    "    identity_init=False,\n",
    ").to(device)\n",
    "transform_masked = MaskedAffineFlowTransform(\n",
    "    # architecture\n",
    "    in_features= 3,\n",
    "    layers = [10, 10, 10],\n",
    "    dropout = None,\n",
    "    residual = False,\n",
    "    activation = torch.nn.ReLU(),\n",
    "    # additional flow args\n",
    "    additive = False,\n",
    "    normalization = ActNorm,\n",
    "    # ordering\n",
    "    ordering = torch.IntTensor([1, 0, 2]),\n",
    ").to(device)\n",
    "transform_inplace.eval()\n",
    "transform_masked.eval()"
   ]
  },
  {
   "cell_type": "code",
   "execution_count": 3,
   "metadata": {},
   "outputs": [
    {
     "name": "stdout",
     "output_type": "stream",
     "text": [
      "[[1.16621   0.        0.       ]\n",
      " [0.        0.9870346 0.       ]\n",
      " [0.        0.        1.6504365]]\n",
      "[[ 1.2771386e+00  1.9475498e-05  0.0000000e+00]\n",
      " [ 0.0000000e+00  7.8886610e-01  0.0000000e+00]\n",
      " [ 1.7929706e-03 -9.1501847e-03  1.5317332e+00]]\n"
     ]
    }
   ],
   "source": [
    "\n",
    "\n",
    "ft_jacobian = torch.func.jacrev(transform_inplace)(torch.zeros_like(x))\n",
    "print(ft_jacobian[0][0, :, 0, :].cpu().detach().numpy())\n",
    "\n",
    "def func(x):\n",
    "    return transform_masked(x, perm_mat=None)\n",
    "\n",
    "ft_jacobian = torch.func.jacrev(func)(torch.zeros_like(x))\n",
    "print(ft_jacobian[0][0, :, 0, :].cpu().detach().numpy())\n"
   ]
  },
  {
   "cell_type": "code",
   "execution_count": null,
   "metadata": {},
   "outputs": [],
   "source": []
  }
 ],
 "metadata": {
  "kernelspec": {
   "display_name": "oslow",
   "language": "python",
   "name": "python3"
  },
  "language_info": {
   "codemirror_mode": {
    "name": "ipython",
    "version": 3
   },
   "file_extension": ".py",
   "mimetype": "text/x-python",
   "name": "python",
   "nbconvert_exporter": "python",
   "pygments_lexer": "ipython3",
   "version": "3.10.13"
  }
 },
 "nbformat": 4,
 "nbformat_minor": 2
}
