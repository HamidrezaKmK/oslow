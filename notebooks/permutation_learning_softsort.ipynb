{
 "cells": [
  {
   "cell_type": "code",
   "execution_count": 4,
   "metadata": {},
   "outputs": [
    {
     "name": "stdout",
     "output_type": "stream",
     "text": [
      "The autoreload extension is already loaded. To reload it, use:\n",
      "  %reload_ext autoreload\n",
      "cuda:2\n"
     ]
    },
    {
     "name": "stderr",
     "output_type": "stream",
     "text": [
      "/home/hamid/ocdaf/notebooks/../ocd/data/synthetic/utils.py:44: RuntimeWarning: overflow encountered in exp\n",
      "  return np.where(x > threshold, x, np.log(1 + np.exp(x)))\n",
      "/home/hamid/ocdaf/notebooks/../ocd/data/synthetic/utils.py:44: RuntimeWarning: overflow encountered in exp\n",
      "  return np.where(x > threshold, x, np.log(1 + np.exp(x)))\n",
      "/home/hamid/ocdaf/notebooks/../ocd/data/synthetic/utils.py:44: RuntimeWarning: overflow encountered in exp\n",
      "  return np.where(x > threshold, x, np.log(1 + np.exp(x)))\n",
      "/home/hamid/ocdaf/notebooks/../ocd/data/synthetic/utils.py:44: RuntimeWarning: overflow encountered in exp\n",
      "  return np.where(x > threshold, x, np.log(1 + np.exp(x)))\n"
     ]
    }
   ],
   "source": [
    "import sys\n",
    "sys.path.append('../')\n",
    "import torch\n",
    "from torch.utils.data import TensorDataset, DataLoader\n",
    "import matplotlib.pyplot as plt\n",
    "from notebooks.notebook_setup import device, smooth_graph, create_new_set_of_models, train_models_and_get_histories, update_dict\n",
    "from oslow.models.oslow import OSlowTest\n",
    "from oslow.data.synthetic.graph_generator import GraphGenerator\n",
    "from oslow.data.synthetic.utils import RandomGenerator\n",
    "from oslow.data.synthetic.parametric import AffineParametericDataset\n",
    "from oslow.data.synthetic.nonparametric import AffineNonParametericDataset\n",
    "from oslow.models.normalization import ActNorm\n",
    "from oslow.training.trainer import Trainer\n",
    "from oslow.config import GumbelTopKConfig, BirkhoffConfig, SoftSortConfig\n",
    "from tqdm import tqdm\n",
    "import numpy as np\n",
    "\n",
    "%load_ext autoreload\n",
    "%autoreload 2\n",
    "device = 'cuda:4'\n",
    "print(device)\n",
    "\n",
    "num_samples = 128\n",
    "permutation_batch_size = 128\n",
    "flow_batch_size = 128\n",
    "epochs = 20000\n",
    "flow_lr = 0.005\n",
    "perm_lr = 0.005\n",
    "flow_freq = 1\n",
    "perm_freq = 4\n",
    "num_nodes = 10\n",
    "\n",
    "graph_generator = GraphGenerator(\n",
    "    num_nodes=num_nodes,\n",
    "    seed=12,\n",
    "    graph_type=\"full\",\n",
    "    enforce_ordering=[i for i in range(num_nodes)],\n",
    ")\n",
    "graph = graph_generator.generate_dag()\n",
    "\n",
    "# These generators are also needed to generate the data\n",
    "gaussian_noise_generator = RandomGenerator('normal', seed=30, loc=0, scale=1)\n",
    "link_generator = RandomGenerator('uniform', seed=1100, low=1, high=1)\n",
    "\n",
    "# parameteric with sin(x) + x non-linearity and softplus\n",
    "dset_sinusoidal = AffineParametericDataset(\n",
    "    num_samples=num_samples,\n",
    "    graph=graph,\n",
    "    noise_generator=gaussian_noise_generator,\n",
    "    link_generator=link_generator,\n",
    "    link=\"sinusoid\",\n",
    "    perform_normalization=False,\n",
    ")\n",
    "class CustomTensorDataset(torch.utils.data.Dataset):\n",
    "    r\"\"\"Dataset wrapping tensors.\n",
    "\n",
    "    Each sample will be retrieved by indexing tensors along the first dimension.\n",
    "\n",
    "    Args:\n",
    "        *tensors (Tensor): tensors that have the same size of the first dimension.\n",
    "    \"\"\"\n",
    "\n",
    "    def __init__(self, tensor: torch.Tensor) -> None:\n",
    "        self.tensor = tensor\n",
    "\n",
    "    def __getitem__(self, index):\n",
    "        return self.tensor[index]\n",
    "\n",
    "    def __len__(self):\n",
    "        return len(self.tensor)\n",
    "\n",
    "\n",
    "dataset = CustomTensorDataset(torch.tensor(dset_sinusoidal.samples.values).float())\n",
    "flow_dataloader = DataLoader(dataset, batch_size=flow_batch_size, shuffle=True)\n",
    "permutation_dataloader = DataLoader(dataset, batch_size=permutation_batch_size, shuffle=True)"
   ]
  },
  {
   "cell_type": "code",
   "execution_count": 5,
   "metadata": {},
   "outputs": [
    {
     "data": {
      "text/html": [
       "Finishing last run (ID:at2h6ywe) before initializing another..."
      ],
      "text/plain": [
       "<IPython.core.display.HTML object>"
      ]
     },
     "metadata": {},
     "output_type": "display_data"
    },
    {
     "name": "stderr",
     "output_type": "stream",
     "text": [
      "wandb: WARNING Source type is set to 'repo' but some required information is missing from the environment. A job will not be created from this run. See https://docs.wandb.ai/guides/launch/create-job\n"
     ]
    },
    {
     "data": {
      "application/vnd.jupyter.widget-view+json": {
       "model_id": "343e60a6b9444976988c71b52e19ff09",
       "version_major": 2,
       "version_minor": 0
      },
      "text/plain": [
       "VBox(children=(Label(value='0.006 MB of 0.006 MB uploaded\\r'), FloatProgress(value=1.0, max=1.0)))"
      ]
     },
     "metadata": {},
     "output_type": "display_data"
    },
    {
     "data": {
      "text/html": [
       "<style>\n",
       "    table.wandb td:nth-child(1) { padding: 0 10px; text-align: left ; width: auto;} td:nth-child(2) {text-align: left ; width: 100%}\n",
       "    .wandb-row { display: flex; flex-direction: row; flex-wrap: wrap; justify-content: flex-start; width: 100% }\n",
       "    .wandb-col { display: flex; flex-direction: column; flex-basis: 100%; flex: 1; padding: 10px; }\n",
       "    </style>\n",
       "<div class=\"wandb-row\"><div class=\"wandb-col\"><h3>Run history:</h3><br/><table class=\"wandb\"><tr><td>epoch</td><td>▁▁▁▂▂▂▂▂▂▃▃▃▃▃▄▄▄▄▄▄▅▅▅▅▅▅▆▆▆▆▆▇▇▇▇▇▇███</td></tr><tr><td>flow/loss</td><td>█▃▁▁▁▁▁▁▁▁▁▁▁▁▁▁▁▁▁▁▁▁▁▁▁▁▁▁▁▁▁▁▁▁▁▁▁▁▁▁</td></tr><tr><td>flow/step</td><td>▁▁▁▂▂▂▂▂▂▃▃▃▃▃▄▄▄▄▄▄▅▅▅▅▅▅▆▆▆▆▆▇▇▇▇▇▇███</td></tr><tr><td>permutation/backward_penalty</td><td>█▂▁▁▁▁▁▁▁▁▁▁▁▁▁▁▁▁▁▁▁▁▁▁▁▁▁▁▁▁▁▁▁▁▁▁▁▁▁▁</td></tr><tr><td>permutation/loss</td><td>█▃▁▁▁▁▁▁▁▁▁▁▁▁▁▁▁▁▁▁▁▁▁▁▁▁▁▁▁▁▁▁▁▁▁▁▁▁▁▁</td></tr><tr><td>permutation/step</td><td>▁▁▁▂▂▂▂▂▂▃▃▃▃▃▄▄▄▄▄▄▅▅▅▅▅▅▆▆▆▆▆▇▇▇▇▇▇███</td></tr><tr><td>permutation/temperature</td><td>███▇▇▇▇▇▇▆▆▆▆▆▅▅▅▅▅▅▄▄▄▄▄▄▃▃▃▃▃▂▂▂▂▂▂▁▁▁</td></tr></table><br/></div><div class=\"wandb-col\"><h3>Run summary:</h3><br/><table class=\"wandb\"><tr><td>epoch</td><td>4000</td></tr><tr><td>flow/loss</td><td>-10.0</td></tr><tr><td>flow/step</td><td>4001</td></tr><tr><td>permutation/backward_penalty</td><td>0</td></tr><tr><td>permutation/loss</td><td>-10.0</td></tr><tr><td>permutation/step</td><td>16004</td></tr><tr><td>permutation/temperature</td><td>0.0</td></tr></table><br/></div></div>"
      ],
      "text/plain": [
       "<IPython.core.display.HTML object>"
      ]
     },
     "metadata": {},
     "output_type": "display_data"
    },
    {
     "data": {
      "text/html": [
       " View run <strong style=\"color:#cdcd00\">ancient-microwave-17</strong> at: <a href='https://wandb.ai/ordered-causal-discovery/notebooks/runs/at2h6ywe' target=\"_blank\">https://wandb.ai/ordered-causal-discovery/notebooks/runs/at2h6ywe</a><br/>Synced 6 W&B file(s), 0 media file(s), 0 artifact file(s) and 0 other file(s)"
      ],
      "text/plain": [
       "<IPython.core.display.HTML object>"
      ]
     },
     "metadata": {},
     "output_type": "display_data"
    },
    {
     "data": {
      "text/html": [
       "Find logs at: <code>./wandb/run-20240207_180215-at2h6ywe/logs</code>"
      ],
      "text/plain": [
       "<IPython.core.display.HTML object>"
      ]
     },
     "metadata": {},
     "output_type": "display_data"
    },
    {
     "data": {
      "text/html": [
       "Successfully finished last run (ID:at2h6ywe). Initializing new run:<br/>"
      ],
      "text/plain": [
       "<IPython.core.display.HTML object>"
      ]
     },
     "metadata": {},
     "output_type": "display_data"
    },
    {
     "data": {
      "application/vnd.jupyter.widget-view+json": {
       "model_id": "99603a87d5284230962cb43c7eb862f5",
       "version_major": 2,
       "version_minor": 0
      },
      "text/plain": [
       "VBox(children=(Label(value='Waiting for wandb.init()...\\r'), FloatProgress(value=0.011112366689162122, max=1.0…"
      ]
     },
     "metadata": {},
     "output_type": "display_data"
    },
    {
     "data": {
      "text/html": [
       "wandb version 0.16.3 is available!  To upgrade, please run:\n",
       " $ pip install wandb --upgrade"
      ],
      "text/plain": [
       "<IPython.core.display.HTML object>"
      ]
     },
     "metadata": {},
     "output_type": "display_data"
    },
    {
     "data": {
      "text/html": [
       "Tracking run with wandb version 0.16.2"
      ],
      "text/plain": [
       "<IPython.core.display.HTML object>"
      ]
     },
     "metadata": {},
     "output_type": "display_data"
    },
    {
     "data": {
      "text/html": [
       "Run data is saved locally in <code>/home/hamid/ocdaf/notebooks/wandb/run-20240207_180951-3z3iuipj</code>"
      ],
      "text/plain": [
       "<IPython.core.display.HTML object>"
      ]
     },
     "metadata": {},
     "output_type": "display_data"
    },
    {
     "data": {
      "text/html": [
       "Syncing run <strong><a href='https://wandb.ai/ordered-causal-discovery/notebooks/runs/3z3iuipj' target=\"_blank\">vital-waterfall-20</a></strong> to <a href='https://wandb.ai/ordered-causal-discovery/notebooks' target=\"_blank\">Weights & Biases</a> (<a href='https://wandb.me/run' target=\"_blank\">docs</a>)<br/>"
      ],
      "text/plain": [
       "<IPython.core.display.HTML object>"
      ]
     },
     "metadata": {},
     "output_type": "display_data"
    },
    {
     "data": {
      "text/html": [
       " View project at <a href='https://wandb.ai/ordered-causal-discovery/notebooks' target=\"_blank\">https://wandb.ai/ordered-causal-discovery/notebooks</a>"
      ],
      "text/plain": [
       "<IPython.core.display.HTML object>"
      ]
     },
     "metadata": {},
     "output_type": "display_data"
    },
    {
     "data": {
      "text/html": [
       " View run at <a href='https://wandb.ai/ordered-causal-discovery/notebooks/runs/3z3iuipj' target=\"_blank\">https://wandb.ai/ordered-causal-discovery/notebooks/runs/3z3iuipj</a>"
      ],
      "text/plain": [
       "<IPython.core.display.HTML object>"
      ]
     },
     "metadata": {},
     "output_type": "display_data"
    }
   ],
   "source": [
    "import wandb\n",
    "\n",
    "torch.random.manual_seed(42)\n",
    "model = OSlowTest(\n",
    "    in_features=num_nodes,\n",
    "    base_matrix=torch.eye(num_nodes),\n",
    ")\n",
    "\n",
    "\n",
    "def flow_optimizer(params): return torch.optim.Adam(params, lr=flow_lr)\n",
    "def perm_optimizer(params): return torch.optim.Adam(params, lr=perm_lr)\n",
    "\n",
    "\n",
    "permutation_learning_config = SoftSortConfig(temp=0.1, iters=20)\n",
    "\n",
    "\n",
    "# permutation_learning_config = GumbelSinkhornStraightThroughConfig(temp=0.1, iters=20)\n",
    "for temperature_scheduler in ['linear', 'constant']:\n",
    "    temperature = 1.\n",
    "\n",
    "    birkhoff_config = None if num_nodes > 4 else BirkhoffConfig(\n",
    "        num_samples=100, frequency=1, print_legend=False)\n",
    "    trainer = Trainer(model=model,\n",
    "                      dag=graph,\n",
    "                      flow_dataloader=flow_dataloader,\n",
    "                      perm_dataloader=permutation_dataloader,\n",
    "                      flow_optimizer=flow_optimizer,\n",
    "                      permutation_optimizer=perm_optimizer,\n",
    "                      flow_frequency=flow_freq,\n",
    "                      temperature=temperature,\n",
    "                      temperature_scheduler=temperature_scheduler,\n",
    "                      permutation_frequency=perm_freq,\n",
    "                      max_epochs=epochs,\n",
    "                      flow_lr_scheduler=torch.optim.lr_scheduler.ConstantLR,\n",
    "                      permutation_lr_scheduler=torch.optim.lr_scheduler.ConstantLR,\n",
    "                      permutation_learning_config=permutation_learning_config,\n",
    "                      birkhoff_config=birkhoff_config,\n",
    "                      device=device)\n",
    "    wandb.init(project=\"notebooks\", entity=\"ordered-causal-discovery\",\n",
    "               tags=[\n",
    "                   permutation_learning_config.method,\n",
    "                   f\"num_nodes-{num_nodes}\",\n",
    "                   f\"epochs-{epochs}\",\n",
    "                   f\"base-temperature-{temperature}\",\n",
    "                   f\"temperature-scheduling-{temperature_scheduler}\",\n",
    "                   \"no-sigmoid\",\n",
    "               ],)\n",
    "    trainer.train()\n",
    "    wandb.finish()"
   ]
  },
  {
   "cell_type": "code",
   "execution_count": null,
   "metadata": {},
   "outputs": [
    {
     "name": "stderr",
     "output_type": "stream",
     "text": [
      "2024-02-07 18:02:14 ERROR    Failed to detect the name of this notebook, you can set it manually with the WANDB_NOTEBOOK_NAME environment variable to enable code saving.\n",
      "\u001b[34m\u001b[1mwandb\u001b[0m: Currently logged in as: \u001b[33mhamidrezakamkari\u001b[0m (\u001b[33mordered-causal-discovery\u001b[0m). Use \u001b[1m`wandb login --relogin`\u001b[0m to force relogin\n"
     ]
    },
    {
     "data": {
      "text/html": [
       "wandb version 0.16.3 is available!  To upgrade, please run:\n",
       " $ pip install wandb --upgrade"
      ],
      "text/plain": [
       "<IPython.core.display.HTML object>"
      ]
     },
     "metadata": {},
     "output_type": "display_data"
    },
    {
     "data": {
      "text/html": [
       "Tracking run with wandb version 0.16.2"
      ],
      "text/plain": [
       "<IPython.core.display.HTML object>"
      ]
     },
     "metadata": {},
     "output_type": "display_data"
    },
    {
     "data": {
      "text/html": [
       "Run data is saved locally in <code>/home/hamid/ocdaf/notebooks/wandb/run-20240207_180215-at2h6ywe</code>"
      ],
      "text/plain": [
       "<IPython.core.display.HTML object>"
      ]
     },
     "metadata": {},
     "output_type": "display_data"
    },
    {
     "data": {
      "text/html": [
       "Syncing run <strong><a href='https://wandb.ai/ordered-causal-discovery/notebooks/runs/at2h6ywe' target=\"_blank\">ancient-microwave-17</a></strong> to <a href='https://wandb.ai/ordered-causal-discovery/notebooks' target=\"_blank\">Weights & Biases</a> (<a href='https://wandb.me/run' target=\"_blank\">docs</a>)<br/>"
      ],
      "text/plain": [
       "<IPython.core.display.HTML object>"
      ]
     },
     "metadata": {},
     "output_type": "display_data"
    },
    {
     "data": {
      "text/html": [
       " View project at <a href='https://wandb.ai/ordered-causal-discovery/notebooks' target=\"_blank\">https://wandb.ai/ordered-causal-discovery/notebooks</a>"
      ],
      "text/plain": [
       "<IPython.core.display.HTML object>"
      ]
     },
     "metadata": {},
     "output_type": "display_data"
    },
    {
     "data": {
      "text/html": [
       " View run at <a href='https://wandb.ai/ordered-causal-discovery/notebooks/runs/at2h6ywe' target=\"_blank\">https://wandb.ai/ordered-causal-discovery/notebooks/runs/at2h6ywe</a>"
      ],
      "text/plain": [
       "<IPython.core.display.HTML object>"
      ]
     },
     "metadata": {},
     "output_type": "display_data"
    }
   ],
   "source": [
    "import wandb\n",
    "\n",
    "\n",
    "wandb.init(project=\"notebooks\", entity=\"ordered-causal-discovery\",\n",
    "           tags=[\n",
    "               permutation_learning_config.method,\n",
    "               f\"num_nodes-{num_nodes}\",\n",
    "               f\"epochs-{epochs}\",\n",
    "               f\"base-temperature-{temperature}\",\n",
    "               f\"temperature-scheduling-{temperature_scheduler}\",\n",
    "               \"no-sigmoid\",\n",
    "           ],)\n",
    "trainer.train()"
   ]
  },
  {
   "cell_type": "code",
   "execution_count": null,
   "metadata": {},
   "outputs": [],
   "source": []
  }
 ],
 "metadata": {
  "kernelspec": {
   "display_name": "oslow",
   "language": "python",
   "name": "python3"
  },
  "language_info": {
   "codemirror_mode": {
    "name": "ipython",
    "version": 3
   },
   "file_extension": ".py",
   "mimetype": "text/x-python",
   "name": "python",
   "nbconvert_exporter": "python",
   "pygments_lexer": "ipython3",
   "version": "3.10.13"
  }
 },
 "nbformat": 4,
 "nbformat_minor": 2
}
